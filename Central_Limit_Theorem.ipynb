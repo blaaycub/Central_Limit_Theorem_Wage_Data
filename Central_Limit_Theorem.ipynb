{
 "cells": [
  {
   "cell_type": "markdown",
   "metadata": {},
   "source": [
    "## The Central Limit Theorem \n",
    "#### Using 2016 Wage Data \n",
    "         \n",
    "Source: https://www.kaggle.com/bls/wage-estimates?select=wm.data.1.AllData.csv\n"
   ]
  },
  {
   "cell_type": "markdown",
   "metadata": {},
   "source": [
    "### Background:\n",
    "In this notebook I will utilize the Central Limit Theorem to quantify uncertainty around sample mean estimates. \n"
   ]
  },
  {
   "cell_type": "code",
   "execution_count": 53,
   "metadata": {},
   "outputs": [],
   "source": [
    "# importing modules\n",
    "import pandas as pd\n",
    "import numpy as np\n",
    "import matplotlib.pyplot as plt\n",
    "\n",
    "# reading data into df \n",
    "population = pd.read_csv(r\"E:\\Codecademy\\CLT\\population.csv\")"
   ]
  },
  {
   "cell_type": "code",
   "execution_count": 20,
   "metadata": {},
   "outputs": [
    {
     "data": {
      "text/plain": [
       "Index(['series_id', 'year', 'period', 'value', 'footnote_codes'], dtype='object')"
      ]
     },
     "execution_count": 20,
     "metadata": {},
     "output_type": "execute_result"
    }
   ],
   "source": [
    "# inspecting the columns\n",
    "population.keys()"
   ]
  },
  {
   "cell_type": "code",
   "execution_count": 21,
   "metadata": {},
   "outputs": [
    {
     "data": {
      "text/plain": [
       "series_id          object\n",
       "year                int64\n",
       "period             object\n",
       "value             float64\n",
       "footnote_codes    float64\n",
       "dtype: object"
      ]
     },
     "execution_count": 21,
     "metadata": {},
     "output_type": "execute_result"
    }
   ],
   "source": [
    "# inspecting datatypes \n",
    "population.dtypes"
   ]
  },
  {
   "cell_type": "code",
   "execution_count": 22,
   "metadata": {},
   "outputs": [
    {
     "data": {
      "image/png": "[encoded data removed]",
      "text/plain": [
       "<Figure size 432x288 with 1 Axes>"
      ]
     },
     "metadata": {
      "needs_background": "light"
     },
     "output_type": "display_data"
    }
   ],
   "source": [
    "# creating a histogram of the true population data\n",
    "plt.hist(population['value'], bins=30, edgecolor='lightgrey')\n",
    "plt.axvline(np.mean(population_data['value']), color ='k', linestyle='dashed', linewidth='2')\n",
    "plt.title('True Population Wage Data')\n",
    "plt.xlabel('Wage (in dollars)')\n",
    "plt.ylabel('Frequency')\n",
    "plt.show()"
   ]
  },
  {
   "cell_type": "code",
   "execution_count": 27,
   "metadata": {},
   "outputs": [
    {
     "name": "stdout",
     "output_type": "stream",
     "text": [
      "The true average population wage is: 20.04 per hour.\n",
      "The true median population wage is: 16.84 per hour.\n"
     ]
    }
   ],
   "source": [
    "pop_mean = population['value'].mean()\n",
    "pop_median = population['value'].median()\n",
    "print(f'The true average population wage is: {round(pop_mean,2)} per hour.')\n",
    "print(f'The true median population wage is: {round(pop_median,2)} per hour.')"
   ]
  },
  {
   "cell_type": "markdown",
   "metadata": {},
   "source": [
    "### Real Life\n",
    "\n",
    "In real life we only observe a single sample, but in order to quantify our uncertainty about that sample, it is useful to think about what WOULD happen if we could observe more. For this reason, in the following code I will take 10,000 random samples of 150 people (instances) from the population and calculate the mean hourly wage for those samples. \n",
    "\n",
    "I will then inspect the 10,000 sample means to see how much they vary from the true average population wage. If there is a large amount of variation, then we can be less confident that any individual sample mean is representative of the population. Alternatively, if there is less variation between the sample and true means, we can be more confident that the sample mean is representative of the true population mean. "
   ]
  },
  {
   "cell_type": "code",
   "execution_count": 37,
   "metadata": {
    "scrolled": true
   },
   "outputs": [
    {
     "data": {
      "image/png": "[encoded data removed]",
      "text/plain": [
       "<Figure size 432x288 with 1 Axes>"
      ]
     },
     "metadata": {
      "needs_background": "light"
     },
     "output_type": "display_data"
    }
   ],
   "source": [
    "# creating a loop to iterate through 10000 random samples of 150 people\n",
    "sample_means = []\n",
    "\n",
    "for i in range(10000):\n",
    "    samp = population_data['value'].sample(n=150, random_state=1)\n",
    "    sample_means.append(np.mean(samp))\n",
    "\n",
    "# creating a histogram of the results of the loop and plotting the mean\n",
    "plt.hist(sample_means, bins = 30, edgecolor='lightgrey')\n",
    "plt.axvline(np.mean(sample_means), color='orange', linestyle='dashed', linewidth=3)\n",
    "plt.title('Sampling Distribution of the Mean')\n",
    "plt.xlabel('Wage (in dollars)')\n",
    "plt.ylabel('Frequency')\n",
    "plt.show()"
   ]
  },
  {
   "cell_type": "code",
   "execution_count": 38,
   "metadata": {},
   "outputs": [
    {
     "name": "stdout",
     "output_type": "stream",
     "text": [
      "The mean value of the sample means is: 20.03\n",
      "The median value of the sample means is: 20.02\n"
     ]
    }
   ],
   "source": [
    "mean = np.mean(sample_means)\n",
    "median = np.median(sample_means)\n",
    "print(f'The mean value of the sample means is: {round(mean,2)}')\n",
    "print(f'The median value of the sample means is: {round(median,2)}')"
   ]
  },
  {
   "cell_type": "markdown",
   "metadata": {},
   "source": [
    "### Notes on Sampling Distribution Result\n",
    "\n",
    "* While the population distribution is very right skewed, this distribution appears to be almost normally distributed\n",
    "* The average of the sample means (Gold dotted line), 20.03, is approximately equal to the truepopulation mean (20.04).\n",
    "* The 10,000 sample means range approximately between 17 and 23 (plus or minus 3 dollars from the true mean).\n"
   ]
  },
  {
   "cell_type": "markdown",
   "metadata": {},
   "source": [
    "### Calculating 95% of the Sample Means"
   ]
  },
  {
   "cell_type": "code",
   "execution_count": 49,
   "metadata": {},
   "outputs": [
    {
     "name": "stdout",
     "output_type": "stream",
     "text": [
      "[18.31863 21.82017]\n"
     ]
    }
   ],
   "source": [
    "percentiles = np.percentile(sample_means, [2.5, 97.5])\n",
    "print(percentiles)"
   ]
  },
  {
   "cell_type": "markdown",
   "metadata": {},
   "source": [
    "95% of all the sample means from the above simulation fall in the range from 18.31 to 21.82 dollars per hour (plus or minus about 1.73\n",
    "from the sample mean)."
   ]
  },
  {
   "cell_type": "markdown",
   "metadata": {},
   "source": [
    "### Formal Definition of the CLT\n",
    "\n",
    "The CLT tells us that the sampling distribution of the mean:\n",
    "* is normally distributed (for a large enough sample size)\n",
    "* is centered at the population mean\n",
    "* has a standard deviation equal to the population  standard deviation divided by the sqaure root of the sample size, otherwise known as ***Standard Error***\n",
    "\n",
    "\n",
    "To simulate a real world example, we will assume we only take a single random sample and find a single mean:"
   ]
  },
  {
   "cell_type": "code",
   "execution_count": 69,
   "metadata": {},
   "outputs": [
    {
     "name": "stdout",
     "output_type": "stream",
     "text": [
      "20.93\n"
     ]
    }
   ],
   "source": [
    "# taking a single random sample of 150 from the population data\n",
    "single_sample = population_data['value'].sample(n=150)\n",
    "\n",
    "# finding the mean of the single random sample\n",
    "single_mean = np.mean(single_sample)\n",
    "print(round(single_mean,2))"
   ]
  },
  {
   "cell_type": "markdown",
   "metadata": {},
   "source": [
    "#### Standard Error Calculation of Single Sample:\n",
    "\n",
    "Because this is a simulation and we are assuming we do not know the population's standard deviation, we can use the standard deviation of the single sample to estimate it, just as we would do in a real world situation."
   ]
  },
  {
   "cell_type": "code",
   "execution_count": 62,
   "metadata": {},
   "outputs": [
    {
     "name": "stdout",
     "output_type": "stream",
     "text": [
      "0.8176497031351733\n"
     ]
    }
   ],
   "source": [
    "std_error = np.std(single_sample)/(150 ** 0.5)\n",
    "print(std_error)"
   ]
  },
  {
   "cell_type": "markdown",
   "metadata": {},
   "source": [
    "Knowing that the CLT says that the sample distribution is normally distributed and that 95% of the normally distributed values are within about 1.96 standard deviations of the mean, we can estimate the width of the single sample distribution without actually knowing the entire population distribution. \n",
    "\n",
    "We do this by multiplying the standard error by 1.96:"
   ]
  },
  {
   "cell_type": "code",
   "execution_count": 70,
   "metadata": {},
   "outputs": [
    {
     "data": {
      "text/plain": [
       "1.6"
      ]
     },
     "execution_count": 70,
     "metadata": {},
     "output_type": "execute_result"
    }
   ],
   "source": [
    "round(std_error * 1.96, 2)"
   ]
  },
  {
   "cell_type": "markdown",
   "metadata": {},
   "source": [
    "### Interpretation of Calculation\n",
    "\n",
    "If we were to take a large number of samples of size 150 from a population with tha same amount of variation as in the observed sample, 95% of those samples would be within about **1.60** dollars from the true population mean. \n",
    "\n",
    "Therefore, there is about a 95% probablity that the observed sample mean of 20.93 is no more than 1.60 dollars away from the true population mean. In other words, **there is about a 95% probability that the true population mean is between 19.33 and 22.53.**\n",
    "\n",
    "Note that the estimate of 1.60 is similar to the value of 1.73 that was calculated from the true population data."
   ]
  },
  {
   "cell_type": "code",
   "execution_count": null,
   "metadata": {},
   "outputs": [],
   "source": []
  }
 ],
 "metadata": {
  "kernelspec": {
   "display_name": "Python 3",
   "language": "python",
   "name": "python3"
  },
  "language_info": {
   "codemirror_mode": {
    "name": "ipython",
    "version": 3
   },
   "file_extension": ".py",
   "mimetype": "text/x-python",
   "name": "python",
   "nbconvert_exporter": "python",
   "pygments_lexer": "ipython3",
   "version": "3.8.5"
  }
 },
 "nbformat": 4,
 "nbformat_minor": 4
}
